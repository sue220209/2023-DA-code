{
 "cells": [
  {
   "cell_type": "code",
   "execution_count": 1,
   "id": "ae358278",
   "metadata": {},
   "outputs": [
    {
     "name": "stdout",
     "output_type": "stream",
     "text": [
      "70\n"
     ]
    }
   ],
   "source": [
    "print(10 * 7)"
   ]
  },
  {
   "cell_type": "code",
   "execution_count": 2,
   "id": "6c0f4a44",
   "metadata": {},
   "outputs": [
    {
     "name": "stdout",
     "output_type": "stream",
     "text": [
      "Hi, everyone\n"
     ]
    }
   ],
   "source": [
    "print('Hi, everyone')"
   ]
  },
  {
   "cell_type": "code",
   "execution_count": 3,
   "id": "0c1560ab",
   "metadata": {},
   "outputs": [
    {
     "name": "stdout",
     "output_type": "stream",
     "text": [
      "Hi, everyone\n"
     ]
    }
   ],
   "source": [
    "print(\"Hi, everyone\")"
   ]
  },
  {
   "cell_type": "code",
   "execution_count": 4,
   "id": "2a10021f",
   "metadata": {},
   "outputs": [
    {
     "name": "stdout",
     "output_type": "stream",
     "text": [
      "2022\n"
     ]
    }
   ],
   "source": [
    "a = 2022\n",
    "print(a)"
   ]
  },
  {
   "cell_type": "code",
   "execution_count": 5,
   "id": "ad2a2d54",
   "metadata": {},
   "outputs": [
    {
     "name": "stdout",
     "output_type": "stream",
     "text": [
      "여러분안녕하세요!\n"
     ]
    }
   ],
   "source": [
    "b = '여러분'\n",
    "print(b + '안녕하세요!')"
   ]
  },
  {
   "cell_type": "code",
   "execution_count": 6,
   "id": "590ec008",
   "metadata": {},
   "outputs": [
    {
     "name": "stdout",
     "output_type": "stream",
     "text": [
      "2022 년에도새해복 많이 받으세요!\n"
     ]
    }
   ],
   "source": [
    "c = '새해'\n",
    "print(a, '년에도' + c + '복 많이 받으세요!')"
   ]
  },
  {
   "cell_type": "code",
   "execution_count": 7,
   "id": "2bd00223",
   "metadata": {},
   "outputs": [
    {
     "name": "stdout",
     "output_type": "stream",
     "text": [
      "이름을 입력하세요: 김인삼\n",
      "김인삼님 안녕하세요!\n"
     ]
    }
   ],
   "source": [
    "name = input('이름을 입력하세요: ')\n",
    "print(name + '님 안녕하세요!')"
   ]
  },
  {
   "cell_type": "code",
   "execution_count": 8,
   "id": "a42016c9",
   "metadata": {},
   "outputs": [
    {
     "name": "stdout",
     "output_type": "stream",
     "text": [
      "출생 연도를 입력하세요: 2003\n",
      "19 세이시군요!\n"
     ]
    }
   ],
   "source": [
    "birth = input('출생 연도를 입력하세요: ')\n",
    "print(2022 - int(birth), '세이시군요!')"
   ]
  },
  {
   "cell_type": "code",
   "execution_count": 9,
   "id": "0910ea2b",
   "metadata": {},
   "outputs": [
    {
     "name": "stdout",
     "output_type": "stream",
     "text": [
      "출생 연도를 입력하세요: 2003\n"
     ]
    },
    {
     "ename": "TypeError",
     "evalue": "unsupported operand type(s) for -: 'int' and 'str'",
     "output_type": "error",
     "traceback": [
      "\u001b[1;31m---------------------------------------------------------------------------\u001b[0m",
      "\u001b[1;31mTypeError\u001b[0m                                 Traceback (most recent call last)",
      "\u001b[1;32m~\\AppData\\Local\\Temp\\ipykernel_22972\\2714685199.py\u001b[0m in \u001b[0;36m<module>\u001b[1;34m\u001b[0m\n\u001b[0;32m      1\u001b[0m \u001b[0mbirth\u001b[0m \u001b[1;33m=\u001b[0m \u001b[0minput\u001b[0m\u001b[1;33m(\u001b[0m\u001b[1;34m'출생 연도를 입력하세요: '\u001b[0m\u001b[1;33m)\u001b[0m\u001b[1;33m\u001b[0m\u001b[1;33m\u001b[0m\u001b[0m\n\u001b[1;32m----> 2\u001b[1;33m \u001b[0mprint\u001b[0m\u001b[1;33m(\u001b[0m\u001b[1;36m2022\u001b[0m \u001b[1;33m-\u001b[0m \u001b[0mbirth\u001b[0m\u001b[1;33m,\u001b[0m \u001b[1;34m'세이시군요!'\u001b[0m\u001b[1;33m)\u001b[0m\u001b[1;33m\u001b[0m\u001b[1;33m\u001b[0m\u001b[0m\n\u001b[0m",
      "\u001b[1;31mTypeError\u001b[0m: unsupported operand type(s) for -: 'int' and 'str'"
     ]
    }
   ],
   "source": [
    "birth = input('출생 연도를 입력하세요: ')\n",
    "print(2022 - birth, '세이시군요!')"
   ]
  },
  {
   "cell_type": "code",
   "execution_count": 10,
   "id": "46de8f06",
   "metadata": {},
   "outputs": [
    {
     "name": "stdout",
     "output_type": "stream",
     "text": [
      "이름을 입력하세요: 김수미\n",
      "출생 년도를 입력하세요 : 2003\n",
      "2003\n"
     ]
    },
    {
     "ename": "TypeError",
     "evalue": "unsupported operand type(s) for -: 'int' and 'str'",
     "output_type": "error",
     "traceback": [
      "\u001b[1;31m---------------------------------------------------------------------------\u001b[0m",
      "\u001b[1;31mTypeError\u001b[0m                                 Traceback (most recent call last)",
      "\u001b[1;32m~\\AppData\\Local\\Temp\\ipykernel_22972\\2909958318.py\u001b[0m in \u001b[0;36m<module>\u001b[1;34m\u001b[0m\n\u001b[0;32m      1\u001b[0m \u001b[0mname\u001b[0m \u001b[1;33m=\u001b[0m \u001b[0minput\u001b[0m\u001b[1;33m(\u001b[0m\u001b[1;34m'이름을 입력하세요: '\u001b[0m\u001b[1;33m)\u001b[0m\u001b[1;33m\u001b[0m\u001b[1;33m\u001b[0m\u001b[0m\n\u001b[0;32m      2\u001b[0m \u001b[0mbirth\u001b[0m \u001b[1;33m=\u001b[0m \u001b[0minput\u001b[0m\u001b[1;33m(\u001b[0m\u001b[1;34m'출생 년도를 입력하세요 : '\u001b[0m\u001b[1;33m)\u001b[0m\u001b[1;33m\u001b[0m\u001b[1;33m\u001b[0m\u001b[0m\n\u001b[1;32m----> 3\u001b[1;33m \u001b[0mage\u001b[0m \u001b[1;33m=\u001b[0m \u001b[1;36m2022\u001b[0m \u001b[1;33m-\u001b[0m \u001b[0minput\u001b[0m\u001b[1;33m(\u001b[0m\u001b[0mbirth\u001b[0m\u001b[1;33m)\u001b[0m\u001b[1;33m\u001b[0m\u001b[1;33m\u001b[0m\u001b[0m\n\u001b[0m\u001b[0;32m      4\u001b[0m \u001b[0mprint\u001b[0m\u001b[1;33m(\u001b[0m\u001b[1;34m'안녕하세요!'\u001b[0m \u001b[1;33m+\u001b[0m \u001b[0mname\u001b[0m \u001b[1;33m+\u001b[0m \u001b[1;34m'님!'\u001b[0m \u001b[1;33m+\u001b[0m \u001b[0mstr\u001b[0m\u001b[1;33m(\u001b[0m\u001b[0mage\u001b[0m\u001b[1;33m)\u001b[0m \u001b[1;33m+\u001b[0m \u001b[1;34m'세이시군요!'\u001b[0m\u001b[1;33m)\u001b[0m\u001b[1;33m\u001b[0m\u001b[1;33m\u001b[0m\u001b[0m\n",
      "\u001b[1;31mTypeError\u001b[0m: unsupported operand type(s) for -: 'int' and 'str'"
     ]
    }
   ],
   "source": [
    "name = input('이름을 입력하세요: ')\n",
    "birth = input('출생 년도를 입력하세요 : ')\n",
    "age = 2022 - input(birth)\n",
    "print('안녕하세요!' + name + '님!' + str(age) + '세이시군요!')"
   ]
  },
  {
   "cell_type": "code",
   "execution_count": 11,
   "id": "b469b931",
   "metadata": {},
   "outputs": [
    {
     "name": "stdout",
     "output_type": "stream",
     "text": [
      "이름을 입력하세요: 김수미\n",
      "출생 년도를 입력하세요 : 2003\n",
      "안녕하세요!김수미님!20세이시군요!\n"
     ]
    }
   ],
   "source": [
    "name = input('이름을 입력하세요: ')\n",
    "birth = input('출생 년도를 입력하세요 : ')\n",
    "age = 2023 - int(birth)\n",
    "print('안녕하세요!' + name + '님!' + str(age) + '세이시군요!')"
   ]
  },
  {
   "cell_type": "code",
   "execution_count": 12,
   "id": "09845485",
   "metadata": {},
   "outputs": [
    {
     "name": "stdout",
     "output_type": "stream",
     "text": [
      "7\n",
      "-1\n",
      "12\n",
      "81\n",
      "3\n",
      "0.75\n",
      "0\n"
     ]
    }
   ],
   "source": [
    "print(3 + 4)\n",
    "print(3 - 4)\n",
    "print(3 * 4)\n",
    "print(3 ** 4)\n",
    "print(3 % 4)\n",
    "print(3 / 4)\n",
    "print(3//4)\n"
   ]
  },
  {
   "cell_type": "code",
   "execution_count": 13,
   "id": "15bdc6c1",
   "metadata": {},
   "outputs": [
    {
     "name": "stdout",
     "output_type": "stream",
     "text": [
      "False\n",
      "False\n",
      "True\n",
      "True\n",
      "False\n",
      "True\n"
     ]
    }
   ],
   "source": [
    "print(3 > 4)\n",
    "print(3 >= 4)\n",
    "print(3 < 4)\n",
    "print(3 <= 4)\n",
    "print(3 == 4)\n",
    "print(3 != 4)"
   ]
  },
  {
   "cell_type": "code",
   "execution_count": 15,
   "id": "ab03f866",
   "metadata": {},
   "outputs": [
    {
     "name": "stdout",
     "output_type": "stream",
     "text": [
      "False\n",
      "True\n"
     ]
    }
   ],
   "source": [
    "print((3 > 4) and (2 < 8))\n",
    "print(((8 % 2) == 0) or (((3%2) == 0)))"
   ]
  },
  {
   "cell_type": "code",
   "execution_count": 17,
   "id": "ee0f1b52",
   "metadata": {},
   "outputs": [
    {
     "name": "stdout",
     "output_type": "stream",
     "text": [
      "5\n"
     ]
    }
   ],
   "source": [
    "import random\n",
    "dice = random.randint(1, 6)\n",
    "print(dice)"
   ]
  },
  {
   "cell_type": "code",
   "execution_count": 18,
   "id": "31883098",
   "metadata": {},
   "outputs": [
    {
     "name": "stdout",
     "output_type": "stream",
     "text": [
      "1.4142135623730951\n",
      "2.0\n"
     ]
    }
   ],
   "source": [
    "import math\n",
    "print(math.sqrt(2))\n",
    "print(math.sqrt(4))"
   ]
  },
  {
   "cell_type": "code",
   "execution_count": 19,
   "id": "b0c5e7ad",
   "metadata": {},
   "outputs": [
    {
     "data": {
      "text/plain": [
       "['__doc__',\n",
       " '__loader__',\n",
       " '__name__',\n",
       " '__package__',\n",
       " '__spec__',\n",
       " 'acos',\n",
       " 'acosh',\n",
       " 'asin',\n",
       " 'asinh',\n",
       " 'atan',\n",
       " 'atan2',\n",
       " 'atanh',\n",
       " 'ceil',\n",
       " 'comb',\n",
       " 'copysign',\n",
       " 'cos',\n",
       " 'cosh',\n",
       " 'degrees',\n",
       " 'dist',\n",
       " 'e',\n",
       " 'erf',\n",
       " 'erfc',\n",
       " 'exp',\n",
       " 'expm1',\n",
       " 'fabs',\n",
       " 'factorial',\n",
       " 'floor',\n",
       " 'fmod',\n",
       " 'frexp',\n",
       " 'fsum',\n",
       " 'gamma',\n",
       " 'gcd',\n",
       " 'hypot',\n",
       " 'inf',\n",
       " 'isclose',\n",
       " 'isfinite',\n",
       " 'isinf',\n",
       " 'isnan',\n",
       " 'isqrt',\n",
       " 'lcm',\n",
       " 'ldexp',\n",
       " 'lgamma',\n",
       " 'log',\n",
       " 'log10',\n",
       " 'log1p',\n",
       " 'log2',\n",
       " 'modf',\n",
       " 'nan',\n",
       " 'nextafter',\n",
       " 'perm',\n",
       " 'pi',\n",
       " 'pow',\n",
       " 'prod',\n",
       " 'radians',\n",
       " 'remainder',\n",
       " 'sin',\n",
       " 'sinh',\n",
       " 'sqrt',\n",
       " 'tan',\n",
       " 'tanh',\n",
       " 'tau',\n",
       " 'trunc',\n",
       " 'ulp']"
      ]
     },
     "execution_count": 19,
     "metadata": {},
     "output_type": "execute_result"
    }
   ],
   "source": [
    "dir(math)"
   ]
  },
  {
   "cell_type": "code",
   "execution_count": 20,
   "id": "c7c1d84e",
   "metadata": {},
   "outputs": [
    {
     "name": "stdout",
     "output_type": "stream",
     "text": [
      "0\n",
      "1\n",
      "2\n",
      "3\n",
      "4\n",
      "5\n",
      "6\n",
      "7\n",
      "8\n",
      "9\n"
     ]
    }
   ],
   "source": [
    "for num in range(10):\n",
    "    print(num)"
   ]
  },
  {
   "cell_type": "code",
   "execution_count": 21,
   "id": "f9e60ada",
   "metadata": {},
   "outputs": [
    {
     "name": "stdout",
     "output_type": "stream",
     "text": [
      "80\n",
      "70\n",
      "90\n",
      "100\n"
     ]
    }
   ],
   "source": [
    "test_score = [80, 70, 90, 100]\n",
    "for score in test_score:\n",
    "    print(score)"
   ]
  },
  {
   "cell_type": "code",
   "execution_count": 22,
   "id": "f9566fea",
   "metadata": {},
   "outputs": [
    {
     "name": "stdout",
     "output_type": "stream",
     "text": [
      "국어\n",
      "영어\n",
      "수학\n",
      "과학\n"
     ]
    }
   ],
   "source": [
    "test_name = ['국어', '영어', '수학', '과학']\n",
    "for name in test_name:\n",
    "    print(name)"
   ]
  },
  {
   "cell_type": "code",
   "execution_count": 23,
   "id": "4772fef5",
   "metadata": {},
   "outputs": [
    {
     "name": "stdout",
     "output_type": "stream",
     "text": [
      "안녕하세요!\n"
     ]
    }
   ],
   "source": [
    "if (10 > 0):\n",
    "    print('안녕하세요!')"
   ]
  },
  {
   "cell_type": "code",
   "execution_count": 27,
   "id": "b23da4d9",
   "metadata": {},
   "outputs": [
    {
     "name": "stdout",
     "output_type": "stream",
     "text": [
      "패스워드를 입력하세요!11111\n",
      "관리자 권한입니다\n"
     ]
    }
   ],
   "source": [
    "password = input('패스워드를 입력하세요!')\n",
    "if(int(password) == 12345):\n",
    "    print('로그인되었습니다.')\n",
    "elif(int(password) == 11111):\n",
    "    print('관리자 권한입니다')\n",
    "else:\n",
    "    print('로그인에 실패하였습니다')"
   ]
  },
  {
   "cell_type": "code",
   "execution_count": 28,
   "id": "260e6047",
   "metadata": {},
   "outputs": [
    {
     "name": "stdout",
     "output_type": "stream",
     "text": [
      "월\n",
      "화\n",
      "수\n",
      "목\n",
      "금\n",
      "토\n"
     ]
    }
   ],
   "source": [
    "arr2 = ['월', '화', '수', '목', '금', '토']\n",
    "print(arr2[0])\n",
    "print(arr2[1])\n",
    "print(arr2[2])\n",
    "print(arr2[3])\n",
    "print(arr2[4])\n",
    "print(arr2[5])"
   ]
  },
  {
   "cell_type": "code",
   "execution_count": 29,
   "id": "74cf6faa",
   "metadata": {},
   "outputs": [
    {
     "name": "stdout",
     "output_type": "stream",
     "text": [
      "['월', '화']\n",
      "['화', '수', '목']\n",
      "['화', '수', '목', '금', '토']\n",
      "['금', '토']\n",
      "['토']\n"
     ]
    }
   ],
   "source": [
    "arr2 = ['월', '화', '수', '목', '금', '토']\n",
    "print(arr2[0:2])\n",
    "print(arr2[1:4])\n",
    "print(arr2[1:])\n",
    "print(arr2[4:])\n",
    "print(arr2[5:])"
   ]
  },
  {
   "cell_type": "code",
   "execution_count": 30,
   "id": "9748e51a",
   "metadata": {},
   "outputs": [
    {
     "name": "stdout",
     "output_type": "stream",
     "text": [
      "[1, 2, 3, 4, 5]\n",
      "5\n",
      "[1, 2, 3, 4, 5, 6]\n",
      "6\n"
     ]
    }
   ],
   "source": [
    "arr1 = [1, 2, 3, 4, 5]\n",
    "print(arr1)\n",
    "print(len(arr1))\n",
    "arr1.append(6)\n",
    "print(arr1)\n",
    "print(len(arr1))"
   ]
  },
  {
   "cell_type": "code",
   "execution_count": 31,
   "id": "ee0195ee",
   "metadata": {},
   "outputs": [
    {
     "name": "stdout",
     "output_type": "stream",
     "text": [
      "['월', '화', '수', '목', '금', '토']\n",
      "6\n",
      "['월', '화', '수', '목', '금', '토', '일']\n",
      "7\n"
     ]
    }
   ],
   "source": [
    "arr2 = ['월', '화', '수', '목', '금', '토']\n",
    "print(arr2)\n",
    "print(len(arr2))\n",
    "arr2.append('일')\n",
    "print(arr2)\n",
    "print(len(arr2))"
   ]
  },
  {
   "cell_type": "code",
   "execution_count": 32,
   "id": "641493a7",
   "metadata": {},
   "outputs": [
    {
     "name": "stdout",
     "output_type": "stream",
     "text": [
      "<class 'list'>\n"
     ]
    }
   ],
   "source": [
    "arr1 = [1, 2, 3, 4, 5]\n",
    "print(type(arr1))"
   ]
  },
  {
   "cell_type": "code",
   "execution_count": 33,
   "id": "d5f989f7",
   "metadata": {},
   "outputs": [
    {
     "name": "stdout",
     "output_type": "stream",
     "text": [
      "<class 'list'>\n"
     ]
    }
   ],
   "source": [
    "arr2 = ['월', '화', '수', '목', '금', '토']\n",
    "print(type(arr2))"
   ]
  },
  {
   "cell_type": "code",
   "execution_count": 39,
   "id": "c722feb1",
   "metadata": {},
   "outputs": [
    {
     "name": "stdout",
     "output_type": "stream",
     "text": [
      " 첫번째 숫자를 입력하세요 : 2\n",
      "두번째 숫자를 입력하세요 : 1\n",
      "2\n"
     ]
    }
   ],
   "source": [
    "a = input(' 첫번째 숫자를 입력하세요 : ')\n",
    "b = input('두번째 숫자를 입력하세요 : ')\n",
    "\n",
    "if( a > b ):\n",
    "    print(a)\n",
    "elif(a < b):\n",
    "    print(b)\n",
    "elif(a == b):\n",
    "    print('동일한 숫자 입니다!')\n"
   ]
  },
  {
   "cell_type": "code",
   "execution_count": null,
   "id": "3cf5c5c3",
   "metadata": {},
   "outputs": [],
   "source": []
  }
 ],
 "metadata": {
  "kernelspec": {
   "display_name": "Python 3 (ipykernel)",
   "language": "python",
   "name": "python3"
  },
  "language_info": {
   "codemirror_mode": {
    "name": "ipython",
    "version": 3
   },
   "file_extension": ".py",
   "mimetype": "text/x-python",
   "name": "python",
   "nbconvert_exporter": "python",
   "pygments_lexer": "ipython3",
   "version": "3.9.13"
  }
 },
 "nbformat": 4,
 "nbformat_minor": 5
}
